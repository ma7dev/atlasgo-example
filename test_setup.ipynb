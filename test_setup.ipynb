{
 "cells": [
  {
   "cell_type": "code",
   "execution_count": 1,
   "metadata": {},
   "outputs": [
    {
     "name": "stdout",
     "output_type": "stream",
     "text": [
      "Note: you may need to restart the kernel to use updated packages.\n"
     ]
    }
   ],
   "source": [
    "%pip install clickhouse_driver pandas -q"
   ]
  },
  {
   "cell_type": "code",
   "execution_count": 10,
   "metadata": {},
   "outputs": [],
   "source": [
    "from helpers import Client\n",
    "\n",
    "client = Client(\n",
    "    host='localhost',\n",
    "    port='9000',\n",
    "    user='default',\n",
    "    password=''\n",
    ")\n",
    "\n",
    "LOG_TABLE='`test`.`orders_log`'\n",
    "CDC_TABLE='`test`.`orders_cdc`'\n",
    "CDC_MVIEW='`test`.`mview_orders_cdc`'"
   ]
  },
  {
   "cell_type": "markdown",
   "metadata": {},
   "source": [
    "## Before modifications"
   ]
  },
  {
   "cell_type": "code",
   "execution_count": 11,
   "metadata": {},
   "outputs": [
    {
     "name": "stdout",
     "output_type": "stream",
     "text": [
      "CREATE TABLE test.orders_log\n",
      "(\n",
      "    `before.id` Int64,\n",
      "    `before.date` DateTime,\n",
      "    `before.price` Int64,\n",
      "    `before.cancelled` Bool,\n",
      "    `after.id` Int64,\n",
      "    `after.date` DateTime,\n",
      "    `after.price` Int64,\n",
      "    `after.cancelled` Bool,\n",
      "    `source.lsn` UInt64,\n",
      "    `op` String\n",
      ")\n",
      "ENGINE = MergeTree\n",
      "PRIMARY KEY `source.lsn`\n",
      "ORDER BY `source.lsn`\n",
      "SETTINGS index_granularity = 8192\n"
     ]
    }
   ],
   "source": [
    "o = client.query_dataframe(f\"\"\"\n",
    "SHOW CREATE TABLE {LOG_TABLE};\n",
    "\"\"\")\n",
    "print(o['statement'][0])"
   ]
  },
  {
   "cell_type": "code",
   "execution_count": 12,
   "metadata": {},
   "outputs": [
    {
     "name": "stdout",
     "output_type": "stream",
     "text": [
      "CREATE TABLE test.orders_cdc\n",
      "(\n",
      "    `id` Int64,\n",
      "    `date` DateTime,\n",
      "    `price` Int64,\n",
      "    `cancelled` Bool,\n",
      "    `version` UInt64,\n",
      "    `deleted` UInt8\n",
      ")\n",
      "ENGINE = ReplacingMergeTree(version, deleted)\n",
      "PRIMARY KEY id\n",
      "ORDER BY id\n",
      "SETTINGS index_granularity = 8192\n"
     ]
    }
   ],
   "source": [
    "o = client.query_dataframe(f\"\"\"\n",
    "SHOW CREATE TABLE {CDC_TABLE};\n",
    "\"\"\")\n",
    "print(o['statement'][0])"
   ]
  },
  {
   "cell_type": "code",
   "execution_count": 13,
   "metadata": {},
   "outputs": [
    {
     "name": "stdout",
     "output_type": "stream",
     "text": [
      "CREATE MATERIALIZED VIEW test.mview_orders_cdc TO test.orders_cdc\n",
      "(\n",
      "    `id` Int64,\n",
      "    `date` DateTime,\n",
      "    `price` Int64,\n",
      "    `cancelled` Bool,\n",
      "    `version` UInt64,\n",
      "    `deleted` UInt8\n",
      ") AS\n",
      "SELECT\n",
      "    if(op = 'd', `before.id`, `after.id`) AS id,\n",
      "    if(op = 'd', `before.date`, `after.date`) AS date,\n",
      "    if(op = 'd', `before.price`, `after.price`) AS price,\n",
      "    if(op = 'd', `before.cancelled`, `after.cancelled`) AS cancelled,\n",
      "    `source.lsn` AS version,\n",
      "    if(op = 'd', 1, 0) AS deleted\n",
      "FROM test.orders_log\n",
      "WHERE (op = 'c') OR (op = 'u') OR (op = 'd')\n"
     ]
    }
   ],
   "source": [
    "o = client.query_dataframe(f\"\"\"\n",
    "SHOW CREATE TABLE {CDC_MVIEW};\n",
    "\"\"\")\n",
    "print(o['statement'][0])"
   ]
  },
  {
   "cell_type": "code",
   "execution_count": 15,
   "metadata": {},
   "outputs": [],
   "source": [
    "client.run(f\"\"\"\n",
    "select *\n",
    "from {LOG_TABLE}\n",
    "order by `source.lsn`\n",
    "limit 5;\n",
    "\"\"\",\n",
    "skip=False,\n",
    "verbose=True,\n",
    "just_output=True,\n",
    "title=\"\")\n",
    "\n",
    "client.run(f\"\"\"\n",
    "select *\n",
    "from {CDC_TABLE}\n",
    "order by `version`\n",
    "limit 5;\n",
    "\"\"\",\n",
    "skip=False,\n",
    "verbose=True,\n",
    "just_output=True,\n",
    "title=\"\")"
   ]
  },
  {
   "cell_type": "code",
   "execution_count": 24,
   "metadata": {},
   "outputs": [],
   "source": [
    "client.run(f\"\"\"\n",
    "insert into {LOG_TABLE}\n",
    "(\n",
    "  `before.id`, `before.date`, `before.price`, `before.cancelled`,\n",
    "  `after.id`, `after.date`, `after.price`, `after.cancelled`,\n",
    "  `source.lsn`, op\n",
    ")\n",
    "values\n",
    "(\n",
    "  1, '2024-02-04 00:00:00', 10, False,\n",
    "  1, '2024-02-04 00:00:00', 10, False,\n",
    "  toInt64(now64()), 'c'\n",
    ");\n",
    "\"\"\",\n",
    "skip=False,\n",
    "verbose=True,\n",
    "just_output=True,\n",
    "title=\"\")"
   ]
  },
  {
   "cell_type": "code",
   "execution_count": 25,
   "metadata": {},
   "outputs": [
    {
     "name": "stdout",
     "output_type": "stream",
     "text": [
      "Output:\n"
     ]
    },
    {
     "data": {
      "text/html": [
       "<div>\n",
       "<style scoped>\n",
       "    .dataframe tbody tr th:only-of-type {\n",
       "        vertical-align: middle;\n",
       "    }\n",
       "\n",
       "    .dataframe tbody tr th {\n",
       "        vertical-align: top;\n",
       "    }\n",
       "\n",
       "    .dataframe thead th {\n",
       "        text-align: right;\n",
       "    }\n",
       "</style>\n",
       "<table border=\"1\" class=\"dataframe\">\n",
       "  <thead>\n",
       "    <tr style=\"text-align: right;\">\n",
       "      <th></th>\n",
       "      <th>before_id</th>\n",
       "      <th>before_date</th>\n",
       "      <th>before_price</th>\n",
       "      <th>before_cancelled</th>\n",
       "      <th>after_id</th>\n",
       "      <th>after_date</th>\n",
       "      <th>after_price</th>\n",
       "      <th>after_cancelled</th>\n",
       "      <th>source_lsn</th>\n",
       "      <th>op</th>\n",
       "    </tr>\n",
       "  </thead>\n",
       "  <tbody>\n",
       "    <tr>\n",
       "      <th>0</th>\n",
       "      <td>1</td>\n",
       "      <td>2024-02-04</td>\n",
       "      <td>10</td>\n",
       "      <td>False</td>\n",
       "      <td>1</td>\n",
       "      <td>2024-02-04</td>\n",
       "      <td>10</td>\n",
       "      <td>False</td>\n",
       "      <td>1707228457</td>\n",
       "      <td>c</td>\n",
       "    </tr>\n",
       "    <tr>\n",
       "      <th>1</th>\n",
       "      <td>1</td>\n",
       "      <td>2024-02-04</td>\n",
       "      <td>10</td>\n",
       "      <td>False</td>\n",
       "      <td>1</td>\n",
       "      <td>2024-02-04</td>\n",
       "      <td>10</td>\n",
       "      <td>False</td>\n",
       "      <td>1707228627</td>\n",
       "      <td>c</td>\n",
       "    </tr>\n",
       "  </tbody>\n",
       "</table>\n",
       "</div>"
      ],
      "text/plain": [
       "   before_id before_date  before_price  before_cancelled  after_id after_date  \\\n",
       "0          1  2024-02-04            10             False         1 2024-02-04   \n",
       "1          1  2024-02-04            10             False         1 2024-02-04   \n",
       "\n",
       "   after_price  after_cancelled  source_lsn op  \n",
       "0           10            False  1707228457  c  \n",
       "1           10            False  1707228627  c  "
      ]
     },
     "metadata": {},
     "output_type": "display_data"
    },
    {
     "name": "stdout",
     "output_type": "stream",
     "text": [
      "Output:\n"
     ]
    },
    {
     "data": {
      "text/html": [
       "<div>\n",
       "<style scoped>\n",
       "    .dataframe tbody tr th:only-of-type {\n",
       "        vertical-align: middle;\n",
       "    }\n",
       "\n",
       "    .dataframe tbody tr th {\n",
       "        vertical-align: top;\n",
       "    }\n",
       "\n",
       "    .dataframe thead th {\n",
       "        text-align: right;\n",
       "    }\n",
       "</style>\n",
       "<table border=\"1\" class=\"dataframe\">\n",
       "  <thead>\n",
       "    <tr style=\"text-align: right;\">\n",
       "      <th></th>\n",
       "      <th>id</th>\n",
       "      <th>date</th>\n",
       "      <th>price</th>\n",
       "      <th>cancelled</th>\n",
       "      <th>version</th>\n",
       "      <th>deleted</th>\n",
       "    </tr>\n",
       "  </thead>\n",
       "  <tbody>\n",
       "    <tr>\n",
       "      <th>0</th>\n",
       "      <td>1</td>\n",
       "      <td>2024-02-04</td>\n",
       "      <td>10</td>\n",
       "      <td>False</td>\n",
       "      <td>1707228457</td>\n",
       "      <td>0</td>\n",
       "    </tr>\n",
       "    <tr>\n",
       "      <th>1</th>\n",
       "      <td>1</td>\n",
       "      <td>2024-02-04</td>\n",
       "      <td>10</td>\n",
       "      <td>False</td>\n",
       "      <td>1707228627</td>\n",
       "      <td>0</td>\n",
       "    </tr>\n",
       "  </tbody>\n",
       "</table>\n",
       "</div>"
      ],
      "text/plain": [
       "   id       date  price  cancelled     version  deleted\n",
       "0   1 2024-02-04     10      False  1707228457        0\n",
       "1   1 2024-02-04     10      False  1707228627        0"
      ]
     },
     "metadata": {},
     "output_type": "display_data"
    }
   ],
   "source": [
    "client.run(f\"\"\"\n",
    "select *\n",
    "from {LOG_TABLE}\n",
    "order by `source.lsn`\n",
    "limit 5;\n",
    "\"\"\",\n",
    "skip=False,\n",
    "verbose=True,\n",
    "just_output=True,\n",
    "title=\"\")\n",
    "\n",
    "client.run(f\"\"\"\n",
    "select *\n",
    "from {CDC_TABLE}\n",
    "order by `version`\n",
    "limit 5;\n",
    "\"\"\",\n",
    "skip=False,\n",
    "verbose=True,\n",
    "just_output=True,\n",
    "title=\"\")"
   ]
  },
  {
   "cell_type": "markdown",
   "metadata": {},
   "source": [
    "# After Modification"
   ]
  },
  {
   "cell_type": "code",
   "execution_count": 20,
   "metadata": {},
   "outputs": [
    {
     "name": "stdout",
     "output_type": "stream",
     "text": [
      "CREATE TABLE test.orders_log\n",
      "(\n",
      "    `before.id` Int64,\n",
      "    `before.date` DateTime,\n",
      "    `before.price` Int64,\n",
      "    `before.cancelled` Bool,\n",
      "    `after.id` Int64,\n",
      "    `after.date` DateTime,\n",
      "    `after.price` Int64,\n",
      "    `after.cancelled` Bool,\n",
      "    `source.lsn` UInt64,\n",
      "    `op` String\n",
      ")\n",
      "ENGINE = MergeTree\n",
      "PRIMARY KEY `source.lsn`\n",
      "ORDER BY `source.lsn`\n",
      "SETTINGS index_granularity = 8192\n"
     ]
    }
   ],
   "source": [
    "o = client.query_dataframe(f\"\"\"\n",
    "SHOW CREATE TABLE {LOG_TABLE};\n",
    "\"\"\")\n",
    "print(o['statement'][0])"
   ]
  },
  {
   "cell_type": "code",
   "execution_count": 21,
   "metadata": {},
   "outputs": [
    {
     "name": "stdout",
     "output_type": "stream",
     "text": [
      "CREATE TABLE test.orders_cdc\n",
      "(\n",
      "    `id` Int64,\n",
      "    `date` DateTime,\n",
      "    `price` Int64,\n",
      "    `cancelled` Bool,\n",
      "    `version` UInt64,\n",
      "    `deleted` UInt8\n",
      ")\n",
      "ENGINE = ReplacingMergeTree(version, deleted)\n",
      "PRIMARY KEY id\n",
      "ORDER BY id\n",
      "SETTINGS index_granularity = 8192\n"
     ]
    }
   ],
   "source": [
    "o = client.query_dataframe(f\"\"\"\n",
    "SHOW CREATE TABLE {CDC_TABLE};\n",
    "\"\"\")\n",
    "print(o['statement'][0])"
   ]
  },
  {
   "cell_type": "code",
   "execution_count": 22,
   "metadata": {},
   "outputs": [
    {
     "name": "stdout",
     "output_type": "stream",
     "text": [
      "CREATE MATERIALIZED VIEW test.mview_orders_cdc TO test.orders_cdc\n",
      "(\n",
      "    `id` Int64,\n",
      "    `date` DateTime,\n",
      "    `price` Int64,\n",
      "    `cancelled` Bool,\n",
      "    `version` UInt64,\n",
      "    `deleted` UInt8\n",
      ") AS\n",
      "SELECT\n",
      "    if(op = 'd', `before.id`, `after.id`) AS id,\n",
      "    if(op = 'd', `before.date`, `after.date`) AS date,\n",
      "    if(op = 'd', `before.price`, `after.price`) AS price,\n",
      "    if(op = 'd', `before.cancelled`, `after.cancelled`) AS cancelled,\n",
      "    `source.lsn` AS version,\n",
      "    if(op = 'd', 1, 0) AS deleted\n",
      "FROM test.orders_log\n",
      "WHERE (op = 'c') OR (op = 'u') OR (op = 'd')\n"
     ]
    }
   ],
   "source": [
    "o = client.query_dataframe(f\"\"\"\n",
    "SHOW CREATE TABLE {CDC_MVIEW};\n",
    "\"\"\")\n",
    "print(o['statement'][0])"
   ]
  },
  {
   "cell_type": "code",
   "execution_count": 27,
   "metadata": {},
   "outputs": [
    {
     "name": "stdout",
     "output_type": "stream",
     "text": [
      "Output:\n"
     ]
    },
    {
     "data": {
      "text/html": [
       "<div>\n",
       "<style scoped>\n",
       "    .dataframe tbody tr th:only-of-type {\n",
       "        vertical-align: middle;\n",
       "    }\n",
       "\n",
       "    .dataframe tbody tr th {\n",
       "        vertical-align: top;\n",
       "    }\n",
       "\n",
       "    .dataframe thead th {\n",
       "        text-align: right;\n",
       "    }\n",
       "</style>\n",
       "<table border=\"1\" class=\"dataframe\">\n",
       "  <thead>\n",
       "    <tr style=\"text-align: right;\">\n",
       "      <th></th>\n",
       "      <th>before_id</th>\n",
       "      <th>before_date</th>\n",
       "      <th>before_price</th>\n",
       "      <th>before_cancelled</th>\n",
       "      <th>after_id</th>\n",
       "      <th>after_date</th>\n",
       "      <th>after_price</th>\n",
       "      <th>after_cancelled</th>\n",
       "      <th>source_lsn</th>\n",
       "      <th>op</th>\n",
       "      <th>before_note</th>\n",
       "      <th>after_note</th>\n",
       "    </tr>\n",
       "  </thead>\n",
       "  <tbody>\n",
       "    <tr>\n",
       "      <th>0</th>\n",
       "      <td>1</td>\n",
       "      <td>2024-02-04</td>\n",
       "      <td>10</td>\n",
       "      <td>False</td>\n",
       "      <td>1</td>\n",
       "      <td>2024-02-04</td>\n",
       "      <td>10</td>\n",
       "      <td>False</td>\n",
       "      <td>1707228457</td>\n",
       "      <td>c</td>\n",
       "      <td></td>\n",
       "      <td></td>\n",
       "    </tr>\n",
       "    <tr>\n",
       "      <th>1</th>\n",
       "      <td>1</td>\n",
       "      <td>2024-02-04</td>\n",
       "      <td>10</td>\n",
       "      <td>False</td>\n",
       "      <td>1</td>\n",
       "      <td>2024-02-04</td>\n",
       "      <td>10</td>\n",
       "      <td>False</td>\n",
       "      <td>1707228627</td>\n",
       "      <td>c</td>\n",
       "      <td></td>\n",
       "      <td></td>\n",
       "    </tr>\n",
       "  </tbody>\n",
       "</table>\n",
       "</div>"
      ],
      "text/plain": [
       "   before_id before_date  before_price  before_cancelled  after_id after_date  \\\n",
       "0          1  2024-02-04            10             False         1 2024-02-04   \n",
       "1          1  2024-02-04            10             False         1 2024-02-04   \n",
       "\n",
       "   after_price  after_cancelled  source_lsn op before_note after_note  \n",
       "0           10            False  1707228457  c                         \n",
       "1           10            False  1707228627  c                         "
      ]
     },
     "metadata": {},
     "output_type": "display_data"
    },
    {
     "name": "stdout",
     "output_type": "stream",
     "text": [
      "Output:\n"
     ]
    },
    {
     "data": {
      "text/html": [
       "<div>\n",
       "<style scoped>\n",
       "    .dataframe tbody tr th:only-of-type {\n",
       "        vertical-align: middle;\n",
       "    }\n",
       "\n",
       "    .dataframe tbody tr th {\n",
       "        vertical-align: top;\n",
       "    }\n",
       "\n",
       "    .dataframe thead th {\n",
       "        text-align: right;\n",
       "    }\n",
       "</style>\n",
       "<table border=\"1\" class=\"dataframe\">\n",
       "  <thead>\n",
       "    <tr style=\"text-align: right;\">\n",
       "      <th></th>\n",
       "      <th>id</th>\n",
       "      <th>date</th>\n",
       "      <th>price</th>\n",
       "      <th>cancelled</th>\n",
       "      <th>version</th>\n",
       "      <th>deleted</th>\n",
       "      <th>note</th>\n",
       "    </tr>\n",
       "  </thead>\n",
       "  <tbody>\n",
       "    <tr>\n",
       "      <th>0</th>\n",
       "      <td>1</td>\n",
       "      <td>2024-02-04</td>\n",
       "      <td>10</td>\n",
       "      <td>False</td>\n",
       "      <td>1707228457</td>\n",
       "      <td>0</td>\n",
       "      <td></td>\n",
       "    </tr>\n",
       "    <tr>\n",
       "      <th>1</th>\n",
       "      <td>1</td>\n",
       "      <td>2024-02-04</td>\n",
       "      <td>10</td>\n",
       "      <td>False</td>\n",
       "      <td>1707228627</td>\n",
       "      <td>0</td>\n",
       "      <td></td>\n",
       "    </tr>\n",
       "  </tbody>\n",
       "</table>\n",
       "</div>"
      ],
      "text/plain": [
       "   id       date  price  cancelled     version  deleted note\n",
       "0   1 2024-02-04     10      False  1707228457        0     \n",
       "1   1 2024-02-04     10      False  1707228627        0     "
      ]
     },
     "metadata": {},
     "output_type": "display_data"
    }
   ],
   "source": [
    "client.run(f\"\"\"\n",
    "select *\n",
    "from {LOG_TABLE}\n",
    "order by `source.lsn`\n",
    "limit 5;\n",
    "\"\"\",\n",
    "skip=False,\n",
    "verbose=True,\n",
    "just_output=True,\n",
    "title=\"\")\n",
    "\n",
    "client.run(f\"\"\"\n",
    "select *\n",
    "from {CDC_TABLE}\n",
    "order by `version`\n",
    "limit 5;\n",
    "\"\"\",\n",
    "skip=False,\n",
    "verbose=True,\n",
    "just_output=True,\n",
    "title=\"\")"
   ]
  },
  {
   "cell_type": "code",
   "execution_count": 28,
   "metadata": {},
   "outputs": [],
   "source": [
    "client.run(f\"\"\"\n",
    "insert into {LOG_TABLE}\n",
    "(\n",
    "  `before.id`, `before.date`, `before.price`, `before.cancelled`, `before.note`,\n",
    "  `after.id`, `after.date`, `after.price`, `after.cancelled`, `after.note`,\n",
    "  `source.lsn`, op\n",
    ")\n",
    "values\n",
    "(\n",
    "  2, '2024-02-04 00:01:00', 20, True, 'cool note',\n",
    "  2, '2024-02-04 00:01:00', 20, True, 'cool note',\n",
    "  toInt64(now64()), 'c'\n",
    ");\n",
    "\"\"\",\n",
    "skip=False,\n",
    "verbose=True,\n",
    "just_output=True,\n",
    "title=\"\")"
   ]
  },
  {
   "cell_type": "code",
   "execution_count": 29,
   "metadata": {},
   "outputs": [
    {
     "name": "stdout",
     "output_type": "stream",
     "text": [
      "Output:\n"
     ]
    },
    {
     "data": {
      "text/html": [
       "<div>\n",
       "<style scoped>\n",
       "    .dataframe tbody tr th:only-of-type {\n",
       "        vertical-align: middle;\n",
       "    }\n",
       "\n",
       "    .dataframe tbody tr th {\n",
       "        vertical-align: top;\n",
       "    }\n",
       "\n",
       "    .dataframe thead th {\n",
       "        text-align: right;\n",
       "    }\n",
       "</style>\n",
       "<table border=\"1\" class=\"dataframe\">\n",
       "  <thead>\n",
       "    <tr style=\"text-align: right;\">\n",
       "      <th></th>\n",
       "      <th>before_id</th>\n",
       "      <th>before_date</th>\n",
       "      <th>before_price</th>\n",
       "      <th>before_cancelled</th>\n",
       "      <th>after_id</th>\n",
       "      <th>after_date</th>\n",
       "      <th>after_price</th>\n",
       "      <th>after_cancelled</th>\n",
       "      <th>source_lsn</th>\n",
       "      <th>op</th>\n",
       "      <th>before_note</th>\n",
       "      <th>after_note</th>\n",
       "    </tr>\n",
       "  </thead>\n",
       "  <tbody>\n",
       "    <tr>\n",
       "      <th>0</th>\n",
       "      <td>1</td>\n",
       "      <td>2024-02-04 00:00:00</td>\n",
       "      <td>10</td>\n",
       "      <td>False</td>\n",
       "      <td>1</td>\n",
       "      <td>2024-02-04 00:00:00</td>\n",
       "      <td>10</td>\n",
       "      <td>False</td>\n",
       "      <td>1707228457</td>\n",
       "      <td>c</td>\n",
       "      <td></td>\n",
       "      <td></td>\n",
       "    </tr>\n",
       "    <tr>\n",
       "      <th>1</th>\n",
       "      <td>1</td>\n",
       "      <td>2024-02-04 00:00:00</td>\n",
       "      <td>10</td>\n",
       "      <td>False</td>\n",
       "      <td>1</td>\n",
       "      <td>2024-02-04 00:00:00</td>\n",
       "      <td>10</td>\n",
       "      <td>False</td>\n",
       "      <td>1707228627</td>\n",
       "      <td>c</td>\n",
       "      <td></td>\n",
       "      <td></td>\n",
       "    </tr>\n",
       "    <tr>\n",
       "      <th>2</th>\n",
       "      <td>2</td>\n",
       "      <td>2024-02-04 00:01:00</td>\n",
       "      <td>20</td>\n",
       "      <td>True</td>\n",
       "      <td>2</td>\n",
       "      <td>2024-02-04 00:01:00</td>\n",
       "      <td>20</td>\n",
       "      <td>True</td>\n",
       "      <td>1707228782</td>\n",
       "      <td>c</td>\n",
       "      <td>cool note</td>\n",
       "      <td>cool note</td>\n",
       "    </tr>\n",
       "  </tbody>\n",
       "</table>\n",
       "</div>"
      ],
      "text/plain": [
       "   before_id         before_date  before_price  before_cancelled  after_id  \\\n",
       "0          1 2024-02-04 00:00:00            10             False         1   \n",
       "1          1 2024-02-04 00:00:00            10             False         1   \n",
       "2          2 2024-02-04 00:01:00            20              True         2   \n",
       "\n",
       "           after_date  after_price  after_cancelled  source_lsn op  \\\n",
       "0 2024-02-04 00:00:00           10            False  1707228457  c   \n",
       "1 2024-02-04 00:00:00           10            False  1707228627  c   \n",
       "2 2024-02-04 00:01:00           20             True  1707228782  c   \n",
       "\n",
       "  before_note after_note  \n",
       "0                         \n",
       "1                         \n",
       "2   cool note  cool note  "
      ]
     },
     "metadata": {},
     "output_type": "display_data"
    },
    {
     "name": "stdout",
     "output_type": "stream",
     "text": [
      "Output:\n"
     ]
    },
    {
     "data": {
      "text/html": [
       "<div>\n",
       "<style scoped>\n",
       "    .dataframe tbody tr th:only-of-type {\n",
       "        vertical-align: middle;\n",
       "    }\n",
       "\n",
       "    .dataframe tbody tr th {\n",
       "        vertical-align: top;\n",
       "    }\n",
       "\n",
       "    .dataframe thead th {\n",
       "        text-align: right;\n",
       "    }\n",
       "</style>\n",
       "<table border=\"1\" class=\"dataframe\">\n",
       "  <thead>\n",
       "    <tr style=\"text-align: right;\">\n",
       "      <th></th>\n",
       "      <th>id</th>\n",
       "      <th>date</th>\n",
       "      <th>price</th>\n",
       "      <th>cancelled</th>\n",
       "      <th>version</th>\n",
       "      <th>deleted</th>\n",
       "      <th>note</th>\n",
       "    </tr>\n",
       "  </thead>\n",
       "  <tbody>\n",
       "    <tr>\n",
       "      <th>0</th>\n",
       "      <td>1</td>\n",
       "      <td>2024-02-04 00:00:00</td>\n",
       "      <td>10</td>\n",
       "      <td>False</td>\n",
       "      <td>1707228457</td>\n",
       "      <td>0</td>\n",
       "      <td></td>\n",
       "    </tr>\n",
       "    <tr>\n",
       "      <th>1</th>\n",
       "      <td>1</td>\n",
       "      <td>2024-02-04 00:00:00</td>\n",
       "      <td>10</td>\n",
       "      <td>False</td>\n",
       "      <td>1707228627</td>\n",
       "      <td>0</td>\n",
       "      <td></td>\n",
       "    </tr>\n",
       "    <tr>\n",
       "      <th>2</th>\n",
       "      <td>2</td>\n",
       "      <td>2024-02-04 00:01:00</td>\n",
       "      <td>20</td>\n",
       "      <td>True</td>\n",
       "      <td>1707228782</td>\n",
       "      <td>0</td>\n",
       "      <td>cool note</td>\n",
       "    </tr>\n",
       "  </tbody>\n",
       "</table>\n",
       "</div>"
      ],
      "text/plain": [
       "   id                date  price  cancelled     version  deleted       note\n",
       "0   1 2024-02-04 00:00:00     10      False  1707228457        0           \n",
       "1   1 2024-02-04 00:00:00     10      False  1707228627        0           \n",
       "2   2 2024-02-04 00:01:00     20       True  1707228782        0  cool note"
      ]
     },
     "metadata": {},
     "output_type": "display_data"
    }
   ],
   "source": [
    "client.run(f\"\"\"\n",
    "select *\n",
    "from {LOG_TABLE}\n",
    "order by `source.lsn`\n",
    "limit 5;\n",
    "\"\"\",\n",
    "skip=False,\n",
    "verbose=True,\n",
    "just_output=True,\n",
    "title=\"\")\n",
    "\n",
    "client.run(f\"\"\"\n",
    "select *\n",
    "from {CDC_TABLE}\n",
    "order by `version`\n",
    "limit 5;\n",
    "\"\"\",\n",
    "skip=False,\n",
    "verbose=True,\n",
    "just_output=True,\n",
    "title=\"\")"
   ]
  },
  {
   "cell_type": "code",
   "execution_count": null,
   "metadata": {},
   "outputs": [],
   "source": []
  }
 ],
 "metadata": {
  "kernelspec": {
   "display_name": "playground",
   "language": "python",
   "name": "python3"
  },
  "language_info": {
   "codemirror_mode": {
    "name": "ipython",
    "version": 3
   },
   "file_extension": ".py",
   "mimetype": "text/x-python",
   "name": "python",
   "nbconvert_exporter": "python",
   "pygments_lexer": "ipython3",
   "version": "3.10.13"
  }
 },
 "nbformat": 4,
 "nbformat_minor": 2
}
